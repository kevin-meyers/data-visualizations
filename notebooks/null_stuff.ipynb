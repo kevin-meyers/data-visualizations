{
 "cells": [
  {
   "cell_type": "code",
   "execution_count": 12,
   "metadata": {},
   "outputs": [],
   "source": [
    "import pandas as pd\n",
    "import matplotlib.pyplot as plt\n",
    "import numpy as np\n",
    "import seaborn as sns\n",
    "import scipy\n",
    "from collections import defaultdict"
   ]
  },
  {
   "cell_type": "code",
   "execution_count": 3,
   "metadata": {},
   "outputs": [],
   "source": [
    "df = pd.read_csv('/home/kevin/Downloads/titanic.csv')"
   ]
  },
  {
   "cell_type": "code",
   "execution_count": 26,
   "metadata": {},
   "outputs": [],
   "source": [
    "def make_range_range(nums, step_size=1):\n",
    "    return range(int(min(nums)), int(max(nums)), step_size)\n",
    "\n",
    "def percent_lower(nums, threshold):\n",
    "    return sum(True for num in nums if num <= threshold) / len(nums)\n",
    "\n",
    "def cdf_list(nums, step_size=1):\n",
    "    threshold_range = make_range_range(nums, step_size)\n",
    "    return [percent_lower(nums, threshold) for threshold in threshold_range]"
   ]
  },
  {
   "cell_type": "code",
   "execution_count": 46,
   "metadata": {},
   "outputs": [],
   "source": [
    "def z_score_null(sample_size, mu, sigma, sample_mean, sample_std, significant_level=.5):\n",
    "    z_score = (sample_mean - mu)/(sigma/np.sqrt(sample_size))\n",
    "    p_val = 2 * scipy.stats.norm.cdf(-np.abs(z_score))\n",
    "    return f'{\"accept\" if p_val > significant_level else \"reject\"} null hypotheses'"
   ]
  },
  {
   "cell_type": "code",
   "execution_count": 48,
   "metadata": {},
   "outputs": [],
   "source": [
    "def t_score_null(mu, sample_list, significant_level=.5):\n",
    "    sample_mean = np.mean(sample_list)\n",
    "    sample_std = np.std(sample_list)\n",
    "    sample_size = len(sample_list)\n",
    "    t_score = (sample_mean - mu)/(sample_std/np.sqrt(sample_size))\n",
    "    \n",
    "    p_val = 2 * t_score * scipy.stats.norm.cdf(-np.abs(t_score))\n",
    "    return p_val > significant_level"
   ]
  },
  {
   "cell_type": "code",
   "execution_count": 41,
   "metadata": {},
   "outputs": [],
   "source": [
    "rat_example = {\n",
    "    'mu': 1.2, \n",
    "    'sigma': .5, \n",
    "    'sample_mean': 1.05, \n",
    "    'sample_size': 100, \n",
    "    'sample_std': None\n",
    "}"
   ]
  },
  {
   "cell_type": "code",
   "execution_count": 45,
   "metadata": {
    "scrolled": true
   },
   "outputs": [
    {
     "data": {
      "text/plain": [
       "'reject null hypotheses'"
      ]
     },
     "execution_count": 45,
     "metadata": {},
     "output_type": "execute_result"
    }
   ],
   "source": [
    "z_score(**rat_example)"
   ]
  },
  {
   "cell_type": "code",
   "execution_count": 21,
   "metadata": {},
   "outputs": [],
   "source": [
    "a = np.random.normal(1.2, .5, 1000)"
   ]
  },
  {
   "cell_type": "code",
   "execution_count": 37,
   "metadata": {},
   "outputs": [
    {
     "data": {
      "text/plain": [
       "0.5"
      ]
     },
     "execution_count": 37,
     "metadata": {},
     "output_type": "execute_result"
    }
   ],
   "source": [
    "scipy.stats.norm.cdf(-np.abs(0))"
   ]
  },
  {
   "cell_type": "code",
   "execution_count": 25,
   "metadata": {
    "collapsed": true
   },
   "outputs": [
    {
     "data": {
      "text/plain": [
       "<matplotlib.axes._subplots.AxesSubplot at 0x7fe835327550>"
      ]
     },
     "execution_count": 25,
     "metadata": {},
     "output_type": "execute_result"
    },
    {
     "data": {
      "image/png": "[encoded data removed]",
      "text/plain": [
       "<Figure size 432x288 with 1 Axes>"
      ]
     },
     "metadata": {
      "needs_background": "light"
     },
     "output_type": "display_data"
    }
   ],
   "source": [
    "sns.distplot(a)"
   ]
  },
  {
   "cell_type": "code",
   "execution_count": 22,
   "metadata": {},
   "outputs": [
    {
     "data": {
      "text/plain": [
       "array([-2.26330176e-01,  3.88817499e-01,  3.83445598e-01, -1.56103073e+00,\n",
       "        4.16171978e-01,  4.61529462e-01,  9.70909636e-01, -1.12283031e+00,\n",
       "        3.72614811e-01,  9.22568936e-01, -6.66456400e-01, -1.35393386e+00,\n",
       "       -7.63020848e-01, -1.39411989e-01,  2.58709658e-01,  3.80002824e-01,\n",
       "       -8.94465998e-01,  1.97237676e-01,  9.00409436e-01, -4.92676727e-01,\n",
       "        8.70251649e-01, -4.40981292e-01,  1.51398614e-01, -1.23755357e+00,\n",
       "       -1.11161604e+00,  3.91935054e-01, -1.09394187e+00,  1.49282717e+00,\n",
       "        1.18393507e+00, -1.01429504e-01, -4.95580860e-01,  1.63237292e+00,\n",
       "       -8.44358475e-01,  4.71471404e-01,  4.50278853e-01,  4.21568572e-03,\n",
       "        1.13755125e+00,  3.32256723e-01, -2.05874084e+00, -5.31358132e-01,\n",
       "       -2.76419878e-01, -3.84748313e-01, -1.77911068e+00, -1.20687715e+00,\n",
       "       -8.78160040e-01, -1.32842070e-01, -5.81373149e-01,  1.35011892e-02,\n",
       "        1.05903513e+00, -6.32108888e-01, -2.23521374e+00,  6.40948161e-03,\n",
       "        4.66342272e-01,  5.03254925e-01, -2.76359112e-01, -1.92187644e+00,\n",
       "       -3.94430535e-01,  3.11699877e-01,  2.84967009e-01,  6.89647887e-01,\n",
       "        1.48149883e+00,  2.94329278e-01,  2.87505508e-02, -3.57051470e-01,\n",
       "       -2.48527507e-01,  2.28110888e+00,  6.34812371e-01,  5.97538495e-01,\n",
       "        3.32979497e-01, -1.97985919e-01, -6.39639510e-01,  2.28731525e+00,\n",
       "        6.00350454e-01, -1.55456503e-01,  5.30501327e-01,  1.43418891e+00,\n",
       "        7.25401901e-01,  2.55422737e-02, -5.95645685e-01,  6.42462268e-02,\n",
       "       -2.28237247e-01, -2.07262703e-01, -2.02795966e-01,  9.19617380e-01,\n",
       "        4.80286884e-01,  1.45241783e+00, -9.45486091e-01,  7.87586271e-01,\n",
       "       -8.33662736e-01, -1.06396890e+00, -9.21420671e-01, -1.76436615e+00,\n",
       "       -5.30444246e-01,  4.65895051e-01,  1.17098616e+00, -1.24146381e+00,\n",
       "        1.08864155e+00, -1.07022721e+00, -1.28415052e-02, -4.51818167e-01,\n",
       "       -1.02776416e+00, -4.24431149e-01,  1.37790194e+00,  9.64976995e-01,\n",
       "       -7.59737082e-02, -2.09886471e-01, -2.83627990e-01, -2.69309124e-02,\n",
       "        5.02458047e-01,  8.79016414e-01,  5.90399624e-01, -4.01796682e-01,\n",
       "       -9.08535568e-01,  5.78256964e-01,  4.03173671e-01, -9.06407456e-01,\n",
       "        1.25087274e-01, -1.61678616e-01, -1.17998424e+00, -8.94652197e-01,\n",
       "        1.94695264e+00, -8.26276946e-01,  7.59215278e-01, -4.98137725e-01,\n",
       "       -1.56074200e+00, -1.87030387e+00, -2.65606233e-01, -1.37427509e+00,\n",
       "        2.85494524e-03,  5.44713714e-01,  1.89487412e+00, -2.78600805e+00,\n",
       "       -1.82530813e+00,  1.35779891e+00,  3.12320680e-01, -8.82091240e-01,\n",
       "       -6.26220782e-02, -1.21792399e-01, -1.66508576e+00,  4.67391866e-01,\n",
       "        5.68046464e-01, -8.99528717e-01,  7.99690337e-01, -1.29878291e+00,\n",
       "       -1.59628706e-01, -6.12611324e-01, -7.51156647e-01, -9.32184592e-01,\n",
       "       -7.26025708e-01, -4.04566120e-01, -1.52301463e+00, -8.20150097e-01,\n",
       "       -2.32836044e+00,  5.94317405e-01,  1.12361495e-01,  9.96812662e-01,\n",
       "       -1.76679769e+00,  7.93410177e-01,  8.88051959e-01,  1.85185977e-01,\n",
       "        1.17972727e+00, -5.57260055e-01, -5.39424837e-01,  3.57981669e-01,\n",
       "        1.99263486e+00, -5.86917925e-01, -1.61750506e+00,  1.47833644e-02,\n",
       "       -1.62280858e-01,  8.30079493e-01, -1.36933866e+00,  3.44810852e-01,\n",
       "       -2.98927860e-01,  1.58172011e+00, -8.61217815e-01, -3.69205228e-01,\n",
       "        2.49168280e-01, -5.13510705e-01,  2.27712066e-02, -2.75043122e-01,\n",
       "       -1.78692155e+00, -1.25096470e+00,  8.24431858e-01, -8.56754404e-02,\n",
       "       -9.59578717e-01, -2.44429214e-01, -1.96362234e-01, -2.60115443e-01,\n",
       "        9.58294192e-01,  1.54323194e+00, -8.32794436e-01, -4.31869770e-03,\n",
       "        1.21079432e+00, -1.02888642e-01, -7.39988712e-01,  6.64699944e-01,\n",
       "        2.24497774e+00, -2.05354434e-01, -3.37189505e-01, -5.57273013e-01,\n",
       "        6.38818104e-01,  3.53496575e-01, -2.45230764e-01,  1.01671180e+00,\n",
       "        1.50993099e+00,  3.91683114e-01,  7.61225469e-01, -5.36305952e-01,\n",
       "       -4.42857083e-01, -5.82706703e-02, -3.78986435e-01, -1.95201288e+00,\n",
       "       -1.46098527e+00, -7.63244865e-01,  8.36059424e-01, -5.59219330e-01,\n",
       "       -1.17760232e+00,  6.63481439e-01, -1.07810964e-01, -3.21038966e-01,\n",
       "       -1.84778701e-01, -7.36117856e-01, -1.97850407e+00,  5.78371492e-01,\n",
       "       -2.34075070e-01, -1.01232433e+00,  1.72467961e+00,  6.91124754e-01,\n",
       "       -3.38493734e-01,  1.99543537e+00, -1.68010615e+00,  7.68661025e-01,\n",
       "        1.39131512e-01, -7.37669677e-01, -3.77021222e-01, -9.67843669e-01,\n",
       "        1.62895215e-01,  1.96959078e+00,  2.30622843e-01,  5.85543673e-01,\n",
       "        1.77855091e+00,  2.15372094e+00, -2.70989115e-01, -1.66354355e+00,\n",
       "       -2.31848172e-01,  1.44524135e+00,  5.75328154e-01,  7.73024507e-01,\n",
       "        5.80686548e-01, -1.18430593e+00,  2.29466263e-01,  9.95496885e-01,\n",
       "        1.03208266e-01, -7.53332635e-01,  2.20778589e-01, -5.55130717e-01,\n",
       "       -8.59694265e-03,  1.49956139e-02, -1.46325087e+00,  1.73075909e+00,\n",
       "       -9.50046006e-01,  1.03800835e+00, -1.64283795e+00, -4.05065212e-01,\n",
       "        1.15626274e+00, -9.93337945e-01, -4.84103054e-02, -1.58792931e-01,\n",
       "        2.53569816e-01, -3.23390685e-01,  7.30973442e-01, -3.67358832e-01,\n",
       "        7.54479480e-01,  7.48343519e-01, -2.22000236e-01, -1.06681668e+00,\n",
       "       -6.88800664e-01, -3.64868376e-01,  1.36911186e+00, -9.45462731e-01,\n",
       "       -2.24889052e-01, -2.14008885e-02,  1.51295087e-01, -9.25439145e-02,\n",
       "        5.85760020e-01, -6.67832694e-01,  2.34750014e-01,  3.56754719e-01,\n",
       "       -3.17183320e-01,  1.85796879e-01, -1.27065839e+00,  3.73347552e-01,\n",
       "       -4.08757310e-01,  4.25432332e-01, -8.43693666e-01, -3.09891485e-01,\n",
       "       -4.96938043e-01, -1.78198493e-01, -1.28143269e+00,  1.06001690e+00,\n",
       "        1.38059557e+00, -8.99152035e-01,  3.30891510e+00,  1.68894880e+00,\n",
       "       -1.57792477e+00,  2.88475292e-01, -2.72588557e-01,  3.64292245e-01,\n",
       "       -1.65103343e-01,  5.57227904e-01, -1.13331589e+00,  8.33100412e-01,\n",
       "       -7.22837844e-01, -1.43956063e+00, -3.21164900e-01, -3.16485392e-01,\n",
       "       -1.41653261e+00, -1.74620477e+00,  1.46523381e+00,  1.49684543e+00,\n",
       "       -1.41981018e+00, -3.95508153e-01, -2.71716262e-01, -1.09989500e-01,\n",
       "       -1.40260164e+00,  1.19939124e+00, -6.00058515e-01, -1.46666239e+00,\n",
       "        8.02843984e-01,  7.90407504e-01,  2.35667432e+00,  5.09228495e-01,\n",
       "       -1.29209990e+00, -7.51070960e-01,  1.07454114e-01,  8.65910751e-02,\n",
       "        1.05697076e+00,  6.05738774e-01, -5.53621942e-01, -1.44886958e+00,\n",
       "       -9.75744852e-01,  1.29665565e+00, -2.02375696e-01,  4.50584079e-01,\n",
       "       -1.22836823e+00,  1.71542423e-01, -2.49950517e-01, -9.29962644e-01,\n",
       "        1.18028527e+00,  4.79339963e-01, -6.61697141e-01,  1.72581839e+00,\n",
       "       -1.33209416e+00,  1.19145345e-01,  1.74790020e+00, -7.94420247e-01,\n",
       "        1.37862787e+00, -5.70654681e-02,  4.59620311e-01, -1.28781398e+00,\n",
       "       -2.09560356e-02, -1.19041933e-01, -1.00578957e+00,  1.64625026e+00,\n",
       "        1.16626630e-01,  4.86509798e-01, -2.34865093e+00, -2.65847347e-01,\n",
       "       -1.73214704e+00,  3.59976338e-01,  2.21941495e-01, -1.48125187e-01,\n",
       "       -2.82790530e-02,  8.18262763e-01, -7.78974957e-01, -6.30079713e-01,\n",
       "       -1.08754875e+00,  3.97414722e-02,  2.56059196e-02,  7.03950322e-01,\n",
       "       -1.02679684e+00, -4.44301765e-01,  1.47322731e+00,  5.57089425e-01,\n",
       "       -5.11685914e-01,  1.93010944e+00,  8.30873704e-01, -3.42188337e-01,\n",
       "       -6.01576627e-01, -9.23609118e-01, -7.66611229e-01,  4.45666122e-01,\n",
       "        1.80035458e-01, -8.56276887e-01, -3.74548778e-01,  7.88103263e-01,\n",
       "       -5.29514912e-01, -4.86081508e-01, -4.52753813e-01, -7.21050215e-01,\n",
       "       -7.94978901e-01,  4.88589998e-01, -1.89243071e-01, -1.28673693e+00,\n",
       "        5.85576975e-01, -3.80099408e-01, -1.41409276e+00, -1.55851858e+00,\n",
       "       -6.19435361e-01,  8.55112689e-01, -4.26206595e-01, -8.89970080e-01,\n",
       "        2.99181980e-01, -3.32954016e-01, -5.31460085e-01,  6.11923638e-01,\n",
       "        8.74439515e-01,  1.11118812e+00,  6.25458874e-01, -4.10524029e-01,\n",
       "       -2.90745882e-01,  2.89699901e+00, -1.25870620e+00,  5.61296897e-01,\n",
       "       -1.54711845e+00,  8.55354132e-01, -1.58780452e+00,  1.89612638e-01,\n",
       "        7.67201370e-01,  3.22534538e-01,  2.72342912e-01,  3.65715395e-01,\n",
       "       -4.18418945e-01, -1.83229039e+00,  3.05160661e-01,  1.65314933e-02,\n",
       "        9.25088349e-01, -8.75247645e-01,  5.73416211e-02, -3.24384849e-01,\n",
       "       -3.78286902e-01,  3.03849037e-02,  8.15493579e-02,  1.27058605e+00,\n",
       "       -1.59348897e+00,  8.41939470e-01,  3.38710015e-01,  1.94812525e-01,\n",
       "       -5.37250215e-01,  9.83256807e-01, -1.07872569e+00,  1.61325861e+00,\n",
       "       -5.37731623e-01, -5.11465687e-01,  8.88627772e-01,  1.84384709e+00,\n",
       "        9.93994188e-02, -1.20223815e+00,  1.33564791e+00,  2.52882143e+00,\n",
       "       -1.11556822e+00,  8.41811463e-02, -4.86917642e-02, -3.40464894e-01,\n",
       "        2.38777714e-01, -1.04453723e+00,  6.00876599e-01,  1.63185893e+00,\n",
       "        3.25442782e-01,  2.44748673e-01, -1.68212446e+00,  1.58747885e+00,\n",
       "        1.66949237e-01, -3.29313470e-01,  6.82246080e-02, -3.35388030e-01,\n",
       "       -2.86246316e+00, -6.99456560e-01,  1.31050723e+00, -4.06320213e-01,\n",
       "        1.33834099e+00, -5.00110473e-01, -7.09172653e-01, -2.83663550e+00,\n",
       "       -4.70571010e-01,  9.68949948e-01,  1.33472551e+00, -3.54277307e-01,\n",
       "       -7.22733271e-01, -1.26170641e+00,  1.92646376e+00, -2.42640218e+00,\n",
       "        7.09512221e-01,  4.91118949e-02, -9.99489012e-01, -5.40268365e-01,\n",
       "        2.06402047e+00, -1.92962928e+00, -1.81328443e+00,  7.29365385e-01,\n",
       "       -2.40757525e-01,  9.80264574e-01, -5.56710186e-01,  4.94233221e-01,\n",
       "       -1.16625311e+00,  2.40406095e-01, -1.20260514e+00, -1.30860886e-01,\n",
       "        2.45756352e-01,  2.01444591e+00,  7.28492349e-01,  9.65561805e-01,\n",
       "        2.65967180e+00,  7.05955002e-01, -1.73702495e+00,  1.18739788e+00,\n",
       "        9.26018107e-02,  8.35180287e-01,  7.38936477e-01, -1.14593092e+00,\n",
       "        4.47274633e-01,  2.14582745e-01, -8.73830739e-01, -2.12552150e+00,\n",
       "       -8.24382480e-01,  8.17735922e-01,  1.90796564e-01,  1.09127788e+00,\n",
       "        7.41141535e-01,  8.61923019e-02, -8.45682782e-01,  2.27092210e-01,\n",
       "        6.72407914e-01,  1.40226443e-02, -2.60976189e-01, -1.47909778e+00,\n",
       "       -3.52428809e-01,  1.36490856e-01,  1.60312330e+00,  9.17105951e-01,\n",
       "        1.17230487e+00,  6.29521659e-01,  9.68386577e-01, -4.65846826e-01,\n",
       "        1.46518244e+00, -3.68423600e-01, -4.08011211e-01,  5.35248465e-01,\n",
       "        5.21414849e-01, -1.14146602e-01, -7.38648766e-01,  1.31668478e+00,\n",
       "       -1.79038529e+00, -4.70475786e-01, -4.03716533e-01, -2.21729564e+00,\n",
       "        4.13543940e-01, -1.70368022e-01,  2.22587613e-01,  1.85523705e-01,\n",
       "        3.80935937e-01, -1.20252738e-01,  1.96337764e-01,  3.44876180e-01,\n",
       "       -1.04544180e-01,  7.18654388e-01,  1.62664363e+00,  9.99261513e-01,\n",
       "       -2.90609864e-01,  2.00510943e-01, -4.30362963e-01,  8.49752437e-01,\n",
       "       -9.91327083e-01, -6.32349564e-01,  2.16709074e+00, -1.74789722e-01,\n",
       "       -6.99806059e-01,  5.54555245e-02, -1.60527175e+00, -1.08607959e+00,\n",
       "        2.52711974e-02, -9.78093352e-01,  6.91805526e-01,  6.36557407e-01,\n",
       "        9.05062803e-01, -1.21979244e+00,  1.31988556e-01, -1.10478790e+00,\n",
       "        2.31478446e-01,  1.13843530e+00,  4.21576490e-01,  4.70356061e-01,\n",
       "        5.09768092e-01,  4.00678656e-01, -8.69339857e-01, -1.60762804e+00,\n",
       "       -9.17803720e-01, -4.36603115e-01, -8.25273653e-01,  5.95654332e-01,\n",
       "        6.70173081e-01, -1.31995926e+00,  8.41467071e-01,  1.32481148e-01,\n",
       "        1.50209696e-02, -1.91713993e-01,  2.23966594e-01,  1.95788056e+00,\n",
       "        1.18522515e+00,  7.21060140e-01,  1.22290419e+00, -2.88615137e-01,\n",
       "        1.07084472e+00, -2.80914471e-02, -3.06016549e-01,  2.30669901e+00,\n",
       "        2.47052166e-01, -3.93631755e-02,  3.82258119e-01,  1.06247740e-01,\n",
       "        1.10011065e-01,  2.39709711e+00,  3.96100164e-01, -4.60059017e-01,\n",
       "        7.65766852e-01, -1.42046237e+00,  3.00567699e-01,  1.19448268e+00,\n",
       "        3.36879891e-01,  1.61979734e-01,  1.94478875e-01, -2.07520631e-01,\n",
       "        7.48538621e-01,  6.81657698e-01,  1.99953762e+00, -9.42062866e-01,\n",
       "        1.48648017e+00, -1.00125508e+00,  5.01363923e-01, -8.78348618e-01,\n",
       "       -4.02308272e-01, -4.33470405e-01,  7.33451400e-01,  1.99612558e+00,\n",
       "        1.37577688e+00,  1.54754080e+00, -9.99075143e-01, -1.13600575e-01,\n",
       "       -2.16843252e-01,  1.04419442e+00,  1.13775227e+00, -2.26138346e+00,\n",
       "       -1.29290685e+00, -1.24839040e+00,  1.56177108e+00, -5.12008731e-01,\n",
       "       -4.13604858e-02,  1.22297436e+00,  2.45051645e-01, -5.84082425e-01,\n",
       "        8.02899191e-01,  7.20847065e-01,  2.05774691e-01, -1.29455244e+00,\n",
       "        8.08514237e-01, -1.78717796e+00, -7.59019668e-01,  3.58303590e-01,\n",
       "       -1.08494459e+00, -1.06973736e+00, -1.69757245e+00,  1.09947792e-01,\n",
       "       -4.08089029e-01, -1.02470946e-01, -4.22622393e-01,  5.04029778e-01,\n",
       "       -1.11535910e+00,  1.56263668e+00, -1.08771095e+00, -7.52490093e-01,\n",
       "       -1.88767744e+00,  1.61821824e-01, -1.09987307e+00,  2.09233649e-01,\n",
       "        2.16364356e-02, -1.33290460e+00,  4.00599606e-01,  8.28730801e-01,\n",
       "        1.09857070e-01,  5.96960068e-01, -1.25443051e+00,  4.88380440e-01,\n",
       "        1.33987969e+00,  4.01173287e-01,  1.08039806e+00, -6.41921730e-01,\n",
       "       -9.62850182e-01,  3.49950913e-01, -8.15443988e-01,  3.40721045e-01,\n",
       "       -7.19012048e-01,  1.90654021e-01, -1.05366962e+00, -7.57666089e-01,\n",
       "        1.86632855e+00,  1.22875162e+00,  7.08885833e-01,  2.22744551e-02,\n",
       "        9.03100602e-01, -7.72567119e-02, -8.01641525e-01,  2.40929076e-01,\n",
       "       -4.43750611e-03, -1.32318209e+00,  3.26676020e-01,  1.69056249e+00,\n",
       "        8.27638578e-01,  1.36103846e-01, -2.59587332e+00,  7.98646193e-01,\n",
       "       -1.36138971e-02, -2.12054235e+00, -1.94607424e+00, -5.03004588e-02,\n",
       "        1.40786827e-01, -1.70406907e-01, -9.89725352e-01, -1.34717370e+00,\n",
       "       -5.51325582e-01, -1.86392136e+00,  6.48555166e-01,  7.12488204e-01,\n",
       "       -9.02386111e-01, -3.39452501e-02,  7.80552766e-02,  9.49104471e-02,\n",
       "       -2.14641679e-03, -1.30850044e+00, -5.11007875e-01,  1.20388509e+00,\n",
       "        1.03112717e+00, -1.02878467e-01, -4.14580013e-01,  9.09316360e-01,\n",
       "        3.85687165e-01, -1.21857651e+00, -4.22991168e-03,  4.06150191e-01,\n",
       "       -1.66875525e+00, -5.85642569e-01,  1.07483130e+00, -9.72404151e-01,\n",
       "        6.98306443e-01,  8.92524094e-02,  1.12448036e+00, -1.03330273e+00,\n",
       "       -5.22848825e-01, -5.55305928e-01,  1.16278666e+00, -3.50211687e-02,\n",
       "       -5.81632583e-01,  1.88951223e+00,  3.69907672e-01, -1.30544012e+00,\n",
       "        1.27214335e-01,  1.48267236e-01, -1.09837816e+00,  4.21071409e-02,\n",
       "       -1.06800701e+00,  3.16381963e-02,  1.03946685e+00, -1.20793195e+00,\n",
       "       -8.65207507e-01,  1.35276771e+00,  1.34987162e+00, -6.23996776e-01,\n",
       "       -7.08553780e-01, -2.04527411e-02, -1.57293526e+00,  3.36719719e-01,\n",
       "        3.46984169e-01,  5.11388115e-01,  8.44058349e-01,  1.26642448e+00,\n",
       "        5.31644771e-01,  1.14512743e+00, -5.42921940e-02, -5.49709305e-01,\n",
       "       -5.20127238e-01,  3.09038130e-01,  2.62684816e+00,  1.67670409e+00,\n",
       "       -1.02492367e+00, -3.73821977e-01,  8.46203448e-01,  1.10702264e+00,\n",
       "       -1.99409466e+00,  1.48257783e+00, -9.75546972e-01,  9.17001285e-01,\n",
       "       -2.83573753e-02,  1.01758346e+00, -1.52473718e-01, -6.28143018e-01,\n",
       "        1.44755516e-01, -2.18346630e+00, -1.57536600e-01,  2.55695774e-01,\n",
       "        1.08901518e-01,  1.12499838e+00, -9.29283803e-01,  3.04571540e-01,\n",
       "       -5.32820233e-01,  7.08605787e-01, -2.05576805e+00,  9.54806044e-02,\n",
       "       -1.84496858e+00, -6.19898835e-02,  1.19910453e+00, -1.19147353e+00,\n",
       "        4.25716051e-01, -3.23021460e-01,  5.68388614e-02,  2.87219254e-01,\n",
       "        9.67969954e-01,  5.96357331e-01, -7.28374316e-01,  9.75646313e-01,\n",
       "       -2.11395617e+00, -2.07408738e-01, -8.42058647e-01,  2.56669004e-01,\n",
       "       -9.11816092e-01,  8.83776691e-02,  2.89201330e-01, -6.20482502e-01,\n",
       "       -7.83343919e-01,  9.93940127e-01, -1.55233772e-01, -3.73472705e-01,\n",
       "       -1.96783026e+00,  1.09564590e+00, -1.03171632e+00, -1.24284839e+00,\n",
       "       -1.82957795e+00,  1.31447728e+00, -2.43497838e-01,  2.34908783e-01,\n",
       "        6.97935178e-01,  7.79123826e-01,  1.10914775e-01,  2.49745160e-01,\n",
       "        7.83599001e-01,  1.36624418e+00, -1.26448250e+00,  1.78564056e+00,\n",
       "        1.76079532e+00,  3.17239081e-01,  3.25935679e-01,  1.72670127e+00,\n",
       "        2.71474418e-01,  1.08248200e+00,  2.47592373e-01,  3.12335905e+00,\n",
       "       -1.60285975e+00, -4.44837301e-02,  2.92604988e+00, -1.37301840e+00,\n",
       "       -1.17416598e-01,  2.79176664e-01,  7.57710293e-01,  1.17553422e-01,\n",
       "       -7.85851484e-01, -5.64048866e-01,  4.05036197e-02, -1.22619617e+00,\n",
       "        6.12362863e-01,  1.18486088e+00,  9.97126994e-01, -4.21375330e-01,\n",
       "       -1.40575746e+00,  4.69520667e-01,  5.68598565e-01,  1.06466777e+00,\n",
       "        6.68934226e-02, -1.24905587e+00,  1.25973034e+00,  5.21106104e-01,\n",
       "       -6.69313548e-01, -6.03393646e-01,  1.97894133e+00, -8.03484166e-01,\n",
       "        1.86231999e-01,  7.93878467e-01, -4.63790441e-01,  3.30250571e-01,\n",
       "        1.83016658e+00,  6.75961326e-01,  1.23661913e-01,  6.85677905e-02,\n",
       "       -9.31918511e-01, -1.34290070e+00, -2.44122358e+00, -1.15741070e+00,\n",
       "       -7.37464778e-01, -9.90827104e-01, -2.49948585e-01, -3.96705554e-01,\n",
       "       -2.15280940e+00,  9.40959847e-01,  3.90754567e-01, -1.03150121e+00,\n",
       "       -7.94953720e-01, -7.55760887e-01, -1.13337961e+00, -4.13459733e-01,\n",
       "        2.86689212e+00, -1.39704950e-01,  1.42135345e+00, -1.01398194e+00,\n",
       "        4.75156732e-01,  1.91031102e+00,  6.34417688e-01,  1.59686965e+00,\n",
       "       -6.87387514e-01, -1.83753689e+00,  1.69377583e+00,  1.87685196e+00,\n",
       "        6.10188821e-01, -9.82595100e-01,  6.96577617e-01, -2.03990737e+00,\n",
       "        5.63425646e-01,  1.41468688e+00, -2.70121568e-01,  7.65589641e-01,\n",
       "        1.22687964e+00, -7.14832107e-01, -2.26014865e-01,  7.78996564e-01,\n",
       "       -1.29709140e+00,  3.38474721e-01, -4.63722156e-01,  1.62822584e+00,\n",
       "        2.53108580e+00, -2.03459562e-02,  5.76699450e-01,  1.04422131e+00,\n",
       "        5.90482252e-02, -2.33828486e-01, -9.75638885e-01, -5.34551166e-01,\n",
       "       -6.53634679e-01, -1.60464868e-01,  1.97060749e-01,  1.47975500e-01,\n",
       "       -3.23566810e-01,  9.19963878e-01, -1.32648291e-01, -4.03872505e-01,\n",
       "       -2.96579174e+00,  9.73313526e-01, -2.55192039e-01, -5.01270588e-01,\n",
       "       -1.92808090e+00,  1.24316381e+00,  8.39047358e-01,  1.19627735e+00,\n",
       "        6.79641394e-01,  3.64402601e-02, -3.19008217e-01,  5.28116546e-01,\n",
       "        4.34403348e-01, -8.40521127e-01,  1.09558882e+00, -9.13322273e-01,\n",
       "        9.89758754e-01,  1.32819541e+00,  9.55639263e-01,  1.35757984e+00,\n",
       "        1.10788923e-01, -5.14154976e-01,  8.20389328e-01,  5.37592979e-01,\n",
       "        1.88455347e-01, -4.35907611e-01, -1.60018578e-02,  1.11057927e+00,\n",
       "       -9.80514589e-01,  2.46198590e-01, -2.54022291e-01, -6.96650337e-01,\n",
       "       -1.57022499e+00, -9.25314177e-01,  1.57531569e+00, -2.25455196e-02,\n",
       "        2.23921115e+00,  2.09842115e+00,  7.10721212e-01,  6.27343271e-01])"
      ]
     },
     "execution_count": 22,
     "metadata": {},
     "output_type": "execute_result"
    }
   ],
   "source": [
    "scipy.stats.zscore(a)"
   ]
  },
  {
   "cell_type": "code",
   "execution_count": null,
   "metadata": {},
   "outputs": [],
   "source": []
  }
 ],
 "metadata": {
  "kernelspec": {
   "display_name": "Python 3",
   "language": "python",
   "name": "python3"
  },
  "language_info": {
   "codemirror_mode": {
    "name": "ipython",
    "version": 3
   },
   "file_extension": ".py",
   "mimetype": "text/x-python",
   "name": "python",
   "nbconvert_exporter": "python",
   "pygments_lexer": "ipython3",
   "version": "3.7.5"
  }
 },
 "nbformat": 4,
 "nbformat_minor": 4
}
